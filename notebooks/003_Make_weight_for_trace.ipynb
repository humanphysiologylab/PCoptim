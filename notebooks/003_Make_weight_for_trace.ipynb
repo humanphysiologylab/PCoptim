{
 "cells": [
  {
   "cell_type": "markdown",
   "id": "e2a9d1f6",
   "metadata": {},
   "source": [
    "## This example creates weights .csv file. Weights are assigned semi-automatically. The weight of sodium current transient is increased, while the weight of pipette charging transient is decreased."
   ]
  },
  {
   "cell_type": "code",
   "execution_count": 2,
   "id": "21b931e0",
   "metadata": {},
   "outputs": [],
   "source": [
    "import numpy as np\n",
    "import pandas as pd\n",
    "import matplotlib.pyplot as plt\n",
    "\n",
    "\n",
    "import sys\n",
    "import json\n",
    "import os\n",
    "\n",
    "from scipy.signal import find_peaks"
   ]
  },
  {
   "cell_type": "code",
   "execution_count": 3,
   "id": "a3ef9f37",
   "metadata": {},
   "outputs": [],
   "source": [
    "trace_filename = '../data/traces/activation.csv'\n",
    "protocol_filename = '../data/protocols/activation.csv'"
   ]
  },
  {
   "cell_type": "code",
   "execution_count": 4,
   "id": "e6c3c840",
   "metadata": {},
   "outputs": [],
   "source": [
    "trace = pd.read_csv(trace_filename)\n",
    "protocol = pd.read_csv(protocol_filename)"
   ]
  },
  {
   "cell_type": "markdown",
   "id": "athletic-psychology",
   "metadata": {},
   "source": [
    "## Plot experimental trace."
   ]
  },
  {
   "cell_type": "code",
   "execution_count": 5,
   "id": "f13d95d4",
   "metadata": {},
   "outputs": [],
   "source": [
    "plt.plot(trace['t'], trace.drop('t', axis=1))\n",
    "None"
   ]
  },
  {
   "cell_type": "code",
   "execution_count": 6,
   "id": "6b7754bd",
   "metadata": {},
   "outputs": [
    {
     "name": "stdout",
     "output_type": "stream",
     "text": [
      "Command voltage changed at:\n"
     ]
    },
    {
     "data": {
      "text/html": [
       "<div>\n",
       "<style scoped>\n",
       "    .dataframe tbody tr th:only-of-type {\n",
       "        vertical-align: middle;\n",
       "    }\n",
       "\n",
       "    .dataframe tbody tr th {\n",
       "        vertical-align: top;\n",
       "    }\n",
       "\n",
       "    .dataframe thead th {\n",
       "        text-align: right;\n",
       "    }\n",
       "</style>\n",
       "<table border=\"1\" class=\"dataframe\">\n",
       "  <thead>\n",
       "    <tr style=\"text-align: right;\">\n",
       "      <th></th>\n",
       "      <th>t</th>\n",
       "    </tr>\n",
       "  </thead>\n",
       "  <tbody>\n",
       "    <tr>\n",
       "      <th>0</th>\n",
       "      <td>0.00395</td>\n",
       "    </tr>\n",
       "    <tr>\n",
       "      <th>1</th>\n",
       "      <td>0.05400</td>\n",
       "    </tr>\n",
       "    <tr>\n",
       "      <th>2</th>\n",
       "      <td>0.10395</td>\n",
       "    </tr>\n",
       "    <tr>\n",
       "      <th>3</th>\n",
       "      <td>0.20400</td>\n",
       "    </tr>\n",
       "  </tbody>\n",
       "</table>\n",
       "</div>"
      ],
      "text/plain": [
       "         t\n",
       "0  0.00395\n",
       "1  0.05400\n",
       "2  0.10395\n",
       "3  0.20400"
      ]
     },
     "execution_count": 6,
     "metadata": {},
     "output_type": "execute_result"
    }
   ],
   "source": [
    "diffs = protocol.drop('t', axis = 1)[protocol.columns[-5]].diff(periods = 1).drop_duplicates()[2:]\n",
    "times = protocol.t[diffs.index]\n",
    "\n",
    "print(\"Command voltage changed at:\")\n",
    "pd.DataFrame(times.values, columns=['t'])"
   ]
  },
  {
   "cell_type": "markdown",
   "id": "baking-designation",
   "metadata": {},
   "source": [
    "## Input the voltage step starting time, approximate current transient end time, approximate pipette charging time and desired weight values below. \n",
    "The weight is equal to:\n",
    "\n",
    "    pipette weight -- from t_start to t_start+pipette time. \n",
    "    peak weight    -- from from the start till the end of the current transient.\n",
    "    1              -- after the end of current trace or t_end\n",
    "    1              -- everywhere else\n",
    "The heuristic algorithm to determine the current transient:    \n",
    "1. The current is supposed to be negative (depolarizing).\n",
    "2. Find the baseline current at t_end. t_end is determined by user manually below.\n",
    "3. The current transient start is determined as the time when trace crosses the baseline for the first time (i.e. becomes negative).\n",
    "4. peaks are determined as the moments of the maximum current. Latest t_peak among the voltage steps is saved (i.e when the activation was the slowest). \n",
    "5. Current transient end is the minimum of the following: \n",
    " * The last moment when the negative current (below the baseline) was observed. \n",
    " * t_start+2*(t_peak-t_start)."
   ]
  },
  {
   "cell_type": "code",
   "execution_count": 7,
   "id": "8d076c74",
   "metadata": {},
   "outputs": [],
   "source": [
    "t_start = 0.10395    # start time of the voltage step, in seconds\n",
    "t_end = 0.15         # the approximate end of current transient, in seconds. Used to determine the baseline.\n",
    "pipette_time = 0.001 # the approximate pipette charging time, in seconds\n",
    "\n",
    "pipette_weight = 0.01 # weight for pipette charging transient (should be <1.)\n",
    "peak_weight = 100     # weight for current transient (should be >1.)"
   ]
  },
  {
   "cell_type": "code",
   "execution_count": 8,
   "id": "59424188",
   "metadata": {},
   "outputs": [],
   "source": [
    "dt = protocol.t[1]-protocol.t[0]\n",
    "pipette_len = int(pipette_time/dt)"
   ]
  },
  {
   "cell_type": "code",
   "execution_count": 9,
   "id": "04abd3c1",
   "metadata": {},
   "outputs": [],
   "source": [
    "start = np.where(trace.t>=t_start)[0][0]+pipette_len\n",
    "end = np.where(trace.t<=t_end)[0][-1]\n",
    "len_baseline = int((end - start)/20)"
   ]
  },
  {
   "cell_type": "code",
   "execution_count": 10,
   "id": "7069982b",
   "metadata": {},
   "outputs": [],
   "source": [
    "# find peaks\n",
    "data = trace.drop('t', axis=1)[start:end]\n",
    "baselines = data[-len_baseline:].mean()\n",
    "min_height = -(data - baselines).min().min()/5\n",
    "\n",
    "peaks = {}\n",
    "for sweep in data:\n",
    "    peak = find_peaks(-data[sweep],height=min_height,distance=len(protocol))[0]\n",
    "    if peak.size>0:\n",
    "        peaks[sweep] = peak[0]+start"
   ]
  },
  {
   "cell_type": "code",
   "execution_count": 11,
   "id": "7d435585",
   "metadata": {},
   "outputs": [],
   "source": [
    "weight = pd.DataFrame(np.ones_like(protocol))\n",
    "weight.columns = protocol.columns\n",
    "weight.t = protocol.t\n",
    "\n",
    "\n",
    "len_act = 0\n",
    "for sweep in weight:\n",
    "    if sweep =='t':\n",
    "        continue\n",
    "    pipette_indexes = diffs.index \n",
    "    for ind in pipette_indexes:\n",
    "        weight[sweep][ind:ind+pipette_len] = pipette_weight \n",
    "    if sweep in peaks:\n",
    "        peak_inds = data[sweep][data[sweep]<0].index\n",
    "        peak_start = peak_inds[0]\n",
    "        len_act = (peaks[sweep] - peak_start) if (peaks[sweep] - peak_start)>len_act else len_act\n",
    "        peak_end = peak_inds[-1] if (peak_start+2*len_act) >= peak_inds[-1] else peak_start+2*len_act\n",
    "        weight[sweep][peak_start:peak_end] = peak_weight\n"
   ]
  },
  {
   "cell_type": "markdown",
   "id": "commercial-upgrade",
   "metadata": {},
   "source": [
    "## Plot current traces and corresponding weights."
   ]
  },
  {
   "cell_type": "code",
   "execution_count": 17,
   "id": "64802293",
   "metadata": {
    "scrolled": true
   },
   "outputs": [],
   "source": [
    "for sweep in weight:\n",
    "    if sweep =='t':\n",
    "        continue\n",
    "    plt.figure()\n",
    "    plt.plot(trace.t, trace[sweep])\n",
    "    plt.plot(weight.t, weight[sweep])"
   ]
  },
  {
   "cell_type": "code",
   "execution_count": null,
   "id": "6a48507b",
   "metadata": {},
   "outputs": [],
   "source": [
    "# Save weight\n",
    "weight_name = 'activation.csv'\n",
    "weights_dir = '../data/weights'\n",
    "\n",
    "weight = weight.set_index('t')\n",
    "weight.to_csv(os.path.normpath(os.path.join(weights_dir, weight_name)))"
   ]
  }
 ],
 "metadata": {
  "kernelspec": {
   "display_name": "Python 3 (ipykernel)",
   "language": "python",
   "name": "python3"
  },
  "language_info": {
   "codemirror_mode": {
    "name": "ipython",
    "version": 3
   },
   "file_extension": ".py",
   "mimetype": "text/x-python",
   "name": "python",
   "nbconvert_exporter": "python",
   "pygments_lexer": "ipython3",
   "version": "3.9.2"
  }
 },
 "nbformat": 4,
 "nbformat_minor": 5
}
