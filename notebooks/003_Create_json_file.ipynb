{
 "cells": [
  {
   "cell_type": "markdown",
   "id": "economic-attack",
   "metadata": {},
   "source": [
    "## Example script to generate .json configuration file required for GA optimization."
   ]
  },
  {
   "cell_type": "code",
   "execution_count": 3,
   "id": "b45a7796",
   "metadata": {},
   "outputs": [],
   "source": [
    "import os\n",
    "import pandas as pd"
   ]
  },
  {
   "cell_type": "markdown",
   "id": "c82e0f23",
   "metadata": {},
   "source": [
    "### GA hyperparameters"
   ]
  },
  {
   "cell_type": "code",
   "execution_count": 4,
   "id": "24ba2d5c",
   "metadata": {},
   "outputs": [],
   "source": [
    "n_organisms = 256 #number of organisms\n",
    "n_elites = 16 #number of elite organisms\n",
    "n_generations = 2 #number of generations\n",
    "\n",
    "config = {'n_organisms': n_organisms,\n",
    "          'n_elites': n_elites,\n",
    "          'n_generations': n_generations,\n",
    "          \n",
    "          'crossover_rate': 1.0,\n",
    "          'mutation_rate': 1.0,\n",
    "          'gamma': 0.05,\n",
    "         }"
   ]
  },
  {
   "cell_type": "code",
   "execution_count": 5,
   "id": "c6958c6d",
   "metadata": {},
   "outputs": [],
   "source": [
    "output_folder_name = 'OUTPUT'\n",
    "output_folder_path = '../../results/'\n",
    "\n",
    "config['output_folder_name'] = os.path.join(output_folder_path, output_folder_name)"
   ]
  },
  {
   "cell_type": "markdown",
   "id": "623f87c3",
   "metadata": {},
   "source": [
    "## Fitness function"
   ]
  },
  {
   "cell_type": "markdown",
   "id": "0a043889",
   "metadata": {},
   "source": [
    "Fitness function is declared in ga/mpi_scripts/loss_utils.py . Currently, either RMSE of the signal or the weighted superposition of the RMSE of the signal and its derivative is supported (RMSE, RMSE_GRAD correspondingly). "
   ]
  },
  {
   "cell_type": "code",
   "execution_count": 6,
   "id": "bb4d8709",
   "metadata": {},
   "outputs": [],
   "source": [
    "config['loss'] = 'RMSE'"
   ]
  },
  {
   "cell_type": "markdown",
   "id": "b549f4aa",
   "metadata": {},
   "source": [
    "## Input data\n",
    "\n",
    "Folders containg CSV data files of voltage-clamp protocol and recorded patch-clamp traces are indicated below. Protocol folder is supposed to contain .csv file with the protocol itself and the .cfg file with the same name where the holding potential between sweeps is saved after import from .abf file. "
   ]
  },
  {
   "cell_type": "code",
   "execution_count": 7,
   "id": "da33dfe6",
   "metadata": {},
   "outputs": [],
   "source": [
    "trace_dir = '../data/traces/' #patch-clamp recorded trace\n",
    "protocol_dir = '../data/protocols/' # voltage clamp protocol"
   ]
  },
  {
   "cell_type": "code",
   "execution_count": 8,
   "id": "d5d8b0c3",
   "metadata": {
    "scrolled": false
   },
   "outputs": [
    {
     "data": {
      "text/html": [
       "<div>\n",
       "<style scoped>\n",
       "    .dataframe tbody tr th:only-of-type {\n",
       "        vertical-align: middle;\n",
       "    }\n",
       "\n",
       "    .dataframe tbody tr th {\n",
       "        vertical-align: top;\n",
       "    }\n",
       "\n",
       "    .dataframe thead th {\n",
       "        text-align: right;\n",
       "    }\n",
       "</style>\n",
       "<table border=\"1\" class=\"dataframe\">\n",
       "  <thead>\n",
       "    <tr style=\"text-align: right;\">\n",
       "      <th></th>\n",
       "      <th>filename</th>\n",
       "    </tr>\n",
       "    <tr>\n",
       "      <th>n_trace</th>\n",
       "      <th></th>\n",
       "    </tr>\n",
       "  </thead>\n",
       "  <tbody>\n",
       "    <tr>\n",
       "      <th>0</th>\n",
       "      <td>activation.csv</td>\n",
       "    </tr>\n",
       "    <tr>\n",
       "      <th>1</th>\n",
       "      <td>NEW_NAME.csv</td>\n",
       "    </tr>\n",
       "    <tr>\n",
       "      <th>2</th>\n",
       "      <td>inactivation.csv</td>\n",
       "    </tr>\n",
       "  </tbody>\n",
       "</table>\n",
       "</div>"
      ],
      "text/plain": [
       "                 filename\n",
       "n_trace                  \n",
       "0          activation.csv\n",
       "1            NEW_NAME.csv\n",
       "2        inactivation.csv"
      ]
     },
     "execution_count": 8,
     "metadata": {},
     "output_type": "execute_result"
    }
   ],
   "source": [
    "### Traces\n",
    "traces = pd.DataFrame(os.listdir(trace_dir), columns=['filename'])\n",
    "traces.index.name ='n_trace'\n",
    "traces"
   ]
  },
  {
   "cell_type": "code",
   "execution_count": 9,
   "id": "2bc9a036",
   "metadata": {
    "scrolled": true
   },
   "outputs": [
    {
     "data": {
      "text/html": [
       "<div>\n",
       "<style scoped>\n",
       "    .dataframe tbody tr th:only-of-type {\n",
       "        vertical-align: middle;\n",
       "    }\n",
       "\n",
       "    .dataframe tbody tr th {\n",
       "        vertical-align: top;\n",
       "    }\n",
       "\n",
       "    .dataframe thead th {\n",
       "        text-align: right;\n",
       "    }\n",
       "</style>\n",
       "<table border=\"1\" class=\"dataframe\">\n",
       "  <thead>\n",
       "    <tr style=\"text-align: right;\">\n",
       "      <th></th>\n",
       "      <th>filename</th>\n",
       "    </tr>\n",
       "    <tr>\n",
       "      <th>n_protocol</th>\n",
       "      <th></th>\n",
       "    </tr>\n",
       "  </thead>\n",
       "  <tbody>\n",
       "    <tr>\n",
       "      <th>0</th>\n",
       "      <td>activation.csv</td>\n",
       "    </tr>\n",
       "    <tr>\n",
       "      <th>1</th>\n",
       "      <td>NEW_NAME.csv</td>\n",
       "    </tr>\n",
       "    <tr>\n",
       "      <th>2</th>\n",
       "      <td>inactivation.csv</td>\n",
       "    </tr>\n",
       "  </tbody>\n",
       "</table>\n",
       "</div>"
      ],
      "text/plain": [
       "                    filename\n",
       "n_protocol                  \n",
       "0             activation.csv\n",
       "1               NEW_NAME.csv\n",
       "2           inactivation.csv"
      ]
     },
     "execution_count": 9,
     "metadata": {},
     "output_type": "execute_result"
    }
   ],
   "source": [
    "### Protocols\n",
    "\n",
    "protocols = pd.DataFrame(os.listdir(protocol_dir), columns=['filename'])\n",
    "protocols.index.name ='n_protocol'\n",
    "protocols"
   ]
  },
  {
   "cell_type": "code",
   "execution_count": 10,
   "id": "6888b6a1",
   "metadata": {},
   "outputs": [],
   "source": [
    "# Input data directories contents is shown above. Particular prtocol or trace is chosen by number.\n",
    "\n",
    "# number of trace\n",
    "n_trace = 1\n",
    "#number of protocol\n",
    "n_protocol = 1\n",
    "\n",
    "trace_path = os.path.abspath(os.path.join(trace_dir, traces.filename[n_trace]))\n",
    "protocol_path = os.path.abspath(os.path.join(protocol_dir, protocols.filename[n_protocol]))\n",
    "\n",
    "\n",
    "individual = {}\n",
    "individual['filename_phenotype'] = trace_path\n",
    "individual['filename_protocol'] = protocol_path"
   ]
  },
  {
   "cell_type": "markdown",
   "id": "25beb928",
   "metadata": {},
   "source": [
    "## Model\n",
    "The model of experimental setup should be compiled as a 'filename_so' C library. Model state variables, algebraic variables and constants are described in 'filename_legend_states', 'filename_legend_algebraic' and 'filename_legend_constants' .csv files correspondingly. The lists of variables and constants is stored as a SUNDIALS NVector internally, with the order corresponding to the respective csv files. The name of output current state variable is controlled by 'columns_model' parameter of the .json configuraration file."
   ]
  },
  {
   "cell_type": "code",
   "execution_count": 11,
   "id": "69d2bfb5",
   "metadata": {},
   "outputs": [],
   "source": [
    "dirname_model = '../src/model_ctypes/PC_model/'\n",
    "filename_so = 'libina.so'\n",
    "\n",
    "config['filename_so'] =  os.path.abspath(os.path.join(dirname_model, filename_so))\n",
    "config['filename_legend_states'] =  os.path.abspath(os.path.join(dirname_model, 'legend_states.csv'))\n",
    "config['filename_legend_algebraic'] =  os.path.abspath(os.path.join(dirname_model, 'legend_algebraic.csv'))\n",
    "config['filename_legend_constants'] =  os.path.abspath(os.path.join(dirname_model, 'legend_constants.csv'))\n",
    "\n",
    "config['columns_model'] = ['I_out']"
   ]
  },
  {
   "cell_type": "code",
   "execution_count": 12,
   "id": "f3684b78",
   "metadata": {},
   "outputs": [
    {
     "data": {
      "text/plain": [
       "{'n_organisms': 256,\n",
       " 'n_elites': 16,\n",
       " 'n_generations': 2,\n",
       " 'crossover_rate': 1.0,\n",
       " 'mutation_rate': 1.0,\n",
       " 'gamma': 0.05,\n",
       " 'output_folder_name': '../../results/OUTPUT',\n",
       " 'loss': 'RMSE',\n",
       " 'filename_so': '/home/ras/Projects/Veronika/code_article/GIT2/PCoptim/src/model_ctypes/PC_model/libina.so',\n",
       " 'filename_legend_states': '/home/ras/Projects/Veronika/code_article/GIT2/PCoptim/src/model_ctypes/PC_model/legend_states.csv',\n",
       " 'filename_legend_algebraic': '/home/ras/Projects/Veronika/code_article/GIT2/PCoptim/src/model_ctypes/PC_model/legend_algebraic.csv',\n",
       " 'filename_legend_constants': '/home/ras/Projects/Veronika/code_article/GIT2/PCoptim/src/model_ctypes/PC_model/legend_constants.csv',\n",
       " 'columns_model': ['I_out']}"
      ]
     },
     "execution_count": 12,
     "metadata": {},
     "output_type": "execute_result"
    }
   ],
   "source": [
    "config"
   ]
  },
  {
   "cell_type": "markdown",
   "id": "a9423efe",
   "metadata": {},
   "source": [
    "## Free parameters and their boundaries"
   ]
  },
  {
   "cell_type": "code",
   "execution_count": 13,
   "id": "06c922c6",
   "metadata": {},
   "outputs": [],
   "source": [
    "config['experimental_conditions'] = {}"
   ]
  },
  {
   "cell_type": "markdown",
   "id": "1ac4d49d",
   "metadata": {},
   "source": [
    "Free parameters are divided in two parts: experimental setup parameters designated as 'individual' parameters, and ionic current parameters designated as 'individual' parameters. Both lists are expected to be not empty. Absoulte scale for the parameter and its boundaries is used if 'is_multiplier' boolean is set to False. Otherwise parameter value is considered to be a scaler of original model value, logarithmic scale is used in this case. \n",
    "\n",
    "NOTE: Simultaneous optimization of multiple experimental traces is supported. In this case 'common' parameters are supposed to be the same in every experiment, while 'individual' are supposed to depend on particular recording. Because of that the recorded trace and the protocol filenames are stored as 'individual' parameters as well. Change 'individual' to 'individual#' in this case, where # corresponds to the number of the trace."
   ]
  },
  {
   "cell_type": "code",
   "execution_count": 14,
   "id": "754fb1e9",
   "metadata": {},
   "outputs": [],
   "source": [
    "individual['params'] = {'c_p': {'bounds': [0.01,5.0], 'is_multiplier': True},\n",
    "                   'c_m': {'bounds': [0.1, 5.0],  'is_multiplier': True},\n",
    "                   'R': {'bounds': [0.1, 100.0], 'is_multiplier': True},\n",
    "                   'R_f': {'bounds': [0.01, 50.0], 'is_multiplier': True},\n",
    "                   'g_max': {'bounds': [0.05, 100.0], 'is_multiplier': True},\n",
    "                   'g_leak': {'bounds': [0.1, 10.0], 'is_multiplier': True},\n",
    "                   'x_c_comp': {'bounds': [0.1, 100.0], 'is_multiplier': True},\n",
    "                   'x_r_comp': {'bounds': [0.1, 10.0], 'is_multiplier': True},\n",
    "                   'alpha': {'bounds': [0.72, 0.78], 'is_multiplier': False},\n",
    "                   'v_rev': {'bounds': [16.0, 80.0], 'is_multiplier': False},\n",
    "                   'v_off': {'bounds': [-2.0, 2.0], 'is_multiplier': False},\n",
    "                   'tau_z': {'bounds': [0.4, 6.0], 'is_multiplier': True}}"
   ]
  },
  {
   "cell_type": "code",
   "execution_count": 15,
   "id": "c13de3ae",
   "metadata": {},
   "outputs": [],
   "source": [
    "default_settings = {'bounds': [0.1, 10], 'is_multiplier': True}\n",
    "\n",
    "common = {}\n",
    "common_parameters = ['a0_m','b0_m','delta_m','s_m', 'tau_m_const',\n",
    "                    'a0_h', 'b0_h','delta_h','s_h', 'tau_h_const',\n",
    "                    'a0_j', 'b0_j', 'delta_j', 's_j', 'tau_j_const',\n",
    "                    ]\n",
    "\n",
    "\n",
    "# Using default settings\n",
    "common['params'] = {param: default_settings for param in common_parameters}\n",
    "\n",
    "# You can change bounds for free parameters if it's necessary\n",
    "common['params']['tau_m_const']['bounds'] =  [0.05, 2.0]\n",
    "\n"
   ]
  },
  {
   "cell_type": "code",
   "execution_count": 16,
   "id": "323e625e",
   "metadata": {},
   "outputs": [],
   "source": [
    "common['params']['v_half_h'] = {'bounds': [60.0, 80.0], 'is_multiplier': False}\n",
    "common['params']['v_half_m'] = {'bounds': [20.0, 30.0], 'is_multiplier': False}\n",
    "common['params']['k_h'] = {'bounds': [6.0, 15.0], 'is_multiplier': False}\n",
    "common['params']['k_m'] = {'bounds': [6.0, 15.0], 'is_multiplier': False}\n"
   ]
  },
  {
   "cell_type": "code",
   "execution_count": 17,
   "id": "52ca358c",
   "metadata": {},
   "outputs": [],
   "source": [
    "config['experimental_conditions']['common'] = common\n",
    "config['experimental_conditions']['individual'] = individual"
   ]
  },
  {
   "cell_type": "code",
   "execution_count": 18,
   "id": "ecd0d5b7",
   "metadata": {},
   "outputs": [
    {
     "data": {
      "text/plain": [
       "{'n_organisms': 256,\n",
       " 'n_elites': 16,\n",
       " 'n_generations': 2,\n",
       " 'crossover_rate': 1.0,\n",
       " 'mutation_rate': 1.0,\n",
       " 'gamma': 0.05,\n",
       " 'output_folder_name': '../../results/OUTPUT',\n",
       " 'loss': 'RMSE',\n",
       " 'filename_so': '/home/ras/Projects/Veronika/code_article/GIT2/PCoptim/src/model_ctypes/PC_model/libina.so',\n",
       " 'filename_legend_states': '/home/ras/Projects/Veronika/code_article/GIT2/PCoptim/src/model_ctypes/PC_model/legend_states.csv',\n",
       " 'filename_legend_algebraic': '/home/ras/Projects/Veronika/code_article/GIT2/PCoptim/src/model_ctypes/PC_model/legend_algebraic.csv',\n",
       " 'filename_legend_constants': '/home/ras/Projects/Veronika/code_article/GIT2/PCoptim/src/model_ctypes/PC_model/legend_constants.csv',\n",
       " 'columns_model': ['I_out'],\n",
       " 'experimental_conditions': {'common': {'params': {'a0_m': {'bounds': [0.05,\n",
       "      2.0],\n",
       "     'is_multiplier': True},\n",
       "    'b0_m': {'bounds': [0.05, 2.0], 'is_multiplier': True},\n",
       "    'delta_m': {'bounds': [0.05, 2.0], 'is_multiplier': True},\n",
       "    's_m': {'bounds': [0.05, 2.0], 'is_multiplier': True},\n",
       "    'tau_m_const': {'bounds': [0.05, 2.0], 'is_multiplier': True},\n",
       "    'a0_h': {'bounds': [0.05, 2.0], 'is_multiplier': True},\n",
       "    'b0_h': {'bounds': [0.05, 2.0], 'is_multiplier': True},\n",
       "    'delta_h': {'bounds': [0.05, 2.0], 'is_multiplier': True},\n",
       "    's_h': {'bounds': [0.05, 2.0], 'is_multiplier': True},\n",
       "    'tau_h_const': {'bounds': [0.05, 2.0], 'is_multiplier': True},\n",
       "    'a0_j': {'bounds': [0.05, 2.0], 'is_multiplier': True},\n",
       "    'b0_j': {'bounds': [0.05, 2.0], 'is_multiplier': True},\n",
       "    'delta_j': {'bounds': [0.05, 2.0], 'is_multiplier': True},\n",
       "    's_j': {'bounds': [0.05, 2.0], 'is_multiplier': True},\n",
       "    'tau_j_const': {'bounds': [0.05, 2.0], 'is_multiplier': True},\n",
       "    'v_half_h': {'bounds': [60.0, 80.0], 'is_multiplier': False},\n",
       "    'v_half_m': {'bounds': [20.0, 30.0], 'is_multiplier': False},\n",
       "    'k_h': {'bounds': [6.0, 15.0], 'is_multiplier': False},\n",
       "    'k_m': {'bounds': [6.0, 15.0], 'is_multiplier': False}}},\n",
       "  'individual': {'filename_phenotype': '/home/ras/Projects/Veronika/code_article/GIT2/PCoptim/data/traces/NEW_NAME.csv',\n",
       "   'filename_protocol': '/home/ras/Projects/Veronika/code_article/GIT2/PCoptim/data/protocols/NEW_NAME.csv',\n",
       "   'params': {'c_p': {'bounds': [0.01, 5.0], 'is_multiplier': True},\n",
       "    'c_m': {'bounds': [0.1, 5.0], 'is_multiplier': True},\n",
       "    'R': {'bounds': [0.1, 100.0], 'is_multiplier': True},\n",
       "    'R_f': {'bounds': [0.01, 50.0], 'is_multiplier': True},\n",
       "    'g_max': {'bounds': [0.05, 100.0], 'is_multiplier': True},\n",
       "    'g_leak': {'bounds': [0.1, 10.0], 'is_multiplier': True},\n",
       "    'x_c_comp': {'bounds': [0.1, 100.0], 'is_multiplier': True},\n",
       "    'x_r_comp': {'bounds': [0.1, 10.0], 'is_multiplier': True},\n",
       "    'alpha': {'bounds': [0.72, 0.78], 'is_multiplier': False},\n",
       "    'v_rev': {'bounds': [16.0, 80.0], 'is_multiplier': False},\n",
       "    'v_off': {'bounds': [-2.0, 2.0], 'is_multiplier': False},\n",
       "    'tau_z': {'bounds': [0.4, 6.0], 'is_multiplier': True}}}}}"
      ]
     },
     "execution_count": 18,
     "metadata": {},
     "output_type": "execute_result"
    }
   ],
   "source": [
    "config"
   ]
  },
  {
   "cell_type": "markdown",
   "id": "67079b83",
   "metadata": {},
   "source": [
    "## Save config"
   ]
  },
  {
   "cell_type": "code",
   "execution_count": 19,
   "id": "f749c589",
   "metadata": {},
   "outputs": [],
   "source": [
    "import json\n",
    "\n",
    "config_name = 'NEW_NAME'\n",
    "with open(f\"../ga/configs/{config_name}.json\", 'w') as f:\n",
    "    f.write(json.dumps(config, indent=4))"
   ]
  }
 ],
 "metadata": {
  "kernelspec": {
   "display_name": "Python 3 (ipykernel)",
   "language": "python",
   "name": "python3"
  },
  "language_info": {
   "codemirror_mode": {
    "name": "ipython",
    "version": 3
   },
   "file_extension": ".py",
   "mimetype": "text/x-python",
   "name": "python",
   "nbconvert_exporter": "python",
   "pygments_lexer": "ipython3",
   "version": "3.9.2"
  }
 },
 "nbformat": 4,
 "nbformat_minor": 5
}
