{
 "cells": [
  {
   "cell_type": "code",
   "execution_count": 1,
   "id": "b45a7796",
   "metadata": {},
   "outputs": [],
   "source": [
    "import os\n",
    "import pandas as pd"
   ]
  },
  {
   "cell_type": "markdown",
   "id": "c82e0f23",
   "metadata": {},
   "source": [
    "### There you can change parameters, which is controlling GA"
   ]
  },
  {
   "cell_type": "code",
   "execution_count": 2,
   "id": "24ba2d5c",
   "metadata": {},
   "outputs": [],
   "source": [
    "n_organisms = 256 #number of organisms\n",
    "n_elites = 16 #number of elite organisms\n",
    "n_generations = 2 #number of generations\n",
    "\n",
    "config = {'n_organisms': n_organisms,\n",
    "          'n_elites': n_elites,\n",
    "          'n_generations': n_generations,\n",
    "          \n",
    "          'crossover_rate': 1.0,\n",
    "          'mutation_rate': 1.0,\n",
    "          'gamma': 0.05,\n",
    "         }"
   ]
  },
  {
   "cell_type": "code",
   "execution_count": 3,
   "id": "c6958c6d",
   "metadata": {},
   "outputs": [],
   "source": [
    "output_folder_name = 'NEW_NAME'\n",
    "output_folder_path = '../../results/'\n",
    "\n",
    "config['output_folder_name'] = os.path.join(output_folder_path, output_folder_name)"
   ]
  },
  {
   "cell_type": "markdown",
   "id": "623f87c3",
   "metadata": {},
   "source": [
    "## Processing data and c-typesmodel"
   ]
  },
  {
   "cell_type": "markdown",
   "id": "0a043889",
   "metadata": {},
   "source": [
    "Fitness function is declared in ga/mpi_scripts/loss_utils.py\n",
    "\n",
    "Currently, RMSE of the signal, signal derivative or their weighted superposition is supported."
   ]
  },
  {
   "cell_type": "code",
   "execution_count": 4,
   "id": "bb4d8709",
   "metadata": {},
   "outputs": [],
   "source": [
    "config['loss'] = 'RMSE'"
   ]
  },
  {
   "cell_type": "markdown",
   "id": "b549f4aa",
   "metadata": {},
   "source": [
    "## Data headers which GA should use \n",
    "\n",
    "Input CSV data files of protocols, recorded patch-clamp traces and output of class InaModel from ./../ga/mpi_scripts/ina_model.py are expected to have column headers for data.\n",
    "\n",
    "In our model protocol header has name *'v'*, input recorded data from patch-clamp have header *'I_out'* and \n",
    "output of c-types model has header *'I_out'* too."
   ]
  },
  {
   "cell_type": "code",
   "execution_count": 5,
   "id": "e3136c1a",
   "metadata": {},
   "outputs": [],
   "source": [
    "config['columns_control'] = ['I_out']\n",
    "config['columns_model'] = ['I_out']\n",
    "config['column_stim_protocol'] = ['v']"
   ]
  },
  {
   "cell_type": "markdown",
   "id": "0968c366",
   "metadata": {},
   "source": [
    "## Paths to protocols and trace"
   ]
  },
  {
   "cell_type": "code",
   "execution_count": 6,
   "id": "da33dfe6",
   "metadata": {},
   "outputs": [],
   "source": [
    "trace_dir = '../data/traces/'\n",
    "protocol_dir = '../data/protocols/'\n",
    "initial_state_protocol_dir = '../data/initial_protocols/'"
   ]
  },
  {
   "cell_type": "code",
   "execution_count": 7,
   "id": "d5d8b0c3",
   "metadata": {
    "scrolled": false
   },
   "outputs": [
    {
     "data": {
      "text/html": [
       "<div>\n",
       "<style scoped>\n",
       "    .dataframe tbody tr th:only-of-type {\n",
       "        vertical-align: middle;\n",
       "    }\n",
       "\n",
       "    .dataframe tbody tr th {\n",
       "        vertical-align: top;\n",
       "    }\n",
       "\n",
       "    .dataframe thead th {\n",
       "        text-align: right;\n",
       "    }\n",
       "</style>\n",
       "<table border=\"1\" class=\"dataframe\">\n",
       "  <thead>\n",
       "    <tr style=\"text-align: right;\">\n",
       "      <th></th>\n",
       "      <th>filename</th>\n",
       "    </tr>\n",
       "    <tr>\n",
       "      <th>n_trace</th>\n",
       "      <th></th>\n",
       "    </tr>\n",
       "  </thead>\n",
       "  <tbody>\n",
       "    <tr>\n",
       "      <th>0</th>\n",
       "      <td>inactivation.csv</td>\n",
       "    </tr>\n",
       "    <tr>\n",
       "      <th>1</th>\n",
       "      <td>activation.csv</td>\n",
       "    </tr>\n",
       "  </tbody>\n",
       "</table>\n",
       "</div>"
      ],
      "text/plain": [
       "                 filename\n",
       "n_trace                  \n",
       "0        inactivation.csv\n",
       "1          activation.csv"
      ]
     },
     "execution_count": 7,
     "metadata": {},
     "output_type": "execute_result"
    }
   ],
   "source": [
    "### Traces\n",
    "traces = pd.DataFrame(os.listdir(trace_dir), columns=['filename'])\n",
    "traces.index.name ='n_trace'\n",
    "traces"
   ]
  },
  {
   "cell_type": "code",
   "execution_count": 8,
   "id": "2bc9a036",
   "metadata": {
    "scrolled": true
   },
   "outputs": [
    {
     "data": {
      "text/html": [
       "<div>\n",
       "<style scoped>\n",
       "    .dataframe tbody tr th:only-of-type {\n",
       "        vertical-align: middle;\n",
       "    }\n",
       "\n",
       "    .dataframe tbody tr th {\n",
       "        vertical-align: top;\n",
       "    }\n",
       "\n",
       "    .dataframe thead th {\n",
       "        text-align: right;\n",
       "    }\n",
       "</style>\n",
       "<table border=\"1\" class=\"dataframe\">\n",
       "  <thead>\n",
       "    <tr style=\"text-align: right;\">\n",
       "      <th></th>\n",
       "      <th>filename</th>\n",
       "    </tr>\n",
       "    <tr>\n",
       "      <th>n_protocol</th>\n",
       "      <th></th>\n",
       "    </tr>\n",
       "  </thead>\n",
       "  <tbody>\n",
       "    <tr>\n",
       "      <th>0</th>\n",
       "      <td>inactivation.csv</td>\n",
       "    </tr>\n",
       "    <tr>\n",
       "      <th>1</th>\n",
       "      <td>activation.csv</td>\n",
       "    </tr>\n",
       "  </tbody>\n",
       "</table>\n",
       "</div>"
      ],
      "text/plain": [
       "                    filename\n",
       "n_protocol                  \n",
       "0           inactivation.csv\n",
       "1             activation.csv"
      ]
     },
     "execution_count": 8,
     "metadata": {},
     "output_type": "execute_result"
    }
   ],
   "source": [
    "### Protocols\n",
    "\n",
    "protocols = pd.DataFrame(os.listdir(protocol_dir), columns=['filename'])\n",
    "protocols.index.name ='n_protocol'\n",
    "protocols"
   ]
  },
  {
   "cell_type": "code",
   "execution_count": 9,
   "id": "daac6190",
   "metadata": {
    "scrolled": true
   },
   "outputs": [
    {
     "data": {
      "text/html": [
       "<div>\n",
       "<style scoped>\n",
       "    .dataframe tbody tr th:only-of-type {\n",
       "        vertical-align: middle;\n",
       "    }\n",
       "\n",
       "    .dataframe tbody tr th {\n",
       "        vertical-align: top;\n",
       "    }\n",
       "\n",
       "    .dataframe thead th {\n",
       "        text-align: right;\n",
       "    }\n",
       "</style>\n",
       "<table border=\"1\" class=\"dataframe\">\n",
       "  <thead>\n",
       "    <tr style=\"text-align: right;\">\n",
       "      <th></th>\n",
       "      <th>filename</th>\n",
       "    </tr>\n",
       "    <tr>\n",
       "      <th>n_trace</th>\n",
       "      <th></th>\n",
       "    </tr>\n",
       "  </thead>\n",
       "  <tbody>\n",
       "    <tr>\n",
       "      <th>0</th>\n",
       "      <td>.~lock.activation_initial_state.csv#</td>\n",
       "    </tr>\n",
       "    <tr>\n",
       "      <th>1</th>\n",
       "      <td>activation_initial_state.csv</td>\n",
       "    </tr>\n",
       "    <tr>\n",
       "      <th>2</th>\n",
       "      <td>inactivation_initial_state.csv</td>\n",
       "    </tr>\n",
       "  </tbody>\n",
       "</table>\n",
       "</div>"
      ],
      "text/plain": [
       "                                     filename\n",
       "n_trace                                      \n",
       "0        .~lock.activation_initial_state.csv#\n",
       "1                activation_initial_state.csv\n",
       "2              inactivation_initial_state.csv"
      ]
     },
     "execution_count": 9,
     "metadata": {},
     "output_type": "execute_result"
    }
   ],
   "source": [
    "### Voltage between sweeps, below it will be called initial state protocol\n",
    "\n",
    "initial_state_protocols = pd.DataFrame(os.listdir(initial_state_protocol_dir), columns=['filename'])\n",
    "initial_state_protocols.index.name ='n_trace'\n",
    "initial_state_protocols"
   ]
  },
  {
   "cell_type": "markdown",
   "id": "7c8382d4",
   "metadata": {},
   "source": []
  },
  {
   "cell_type": "code",
   "execution_count": 10,
   "id": "6888b6a1",
   "metadata": {},
   "outputs": [],
   "source": [
    "# Above shown which traces, protocols and initial state protocols are saved in default directories\n",
    "# You can choose which of them will be used by number\n",
    "\n",
    "# number of trace\n",
    "n_trace = 1\n",
    "#number of protocol\n",
    "n_protocol = 1\n",
    "# number of initial_state_protocol\n",
    "n_initial_state_protocol = 1\n",
    "\n",
    "trace_path = os.path.abspath(os.path.join(trace_dir, traces.filename[n_trace]))\n",
    "protocol_path = os.path.abspath(os.path.join(protocol_dir, protocols.filename[n_protocol]))\n",
    "initial_state_protocol_path = os.path.abspath(os.path.join(initial_state_protocol_dir, \n",
    "                                           initial_state_protocols.filename[n_initial_state_protocol]))\n",
    "\n",
    "individual = {}\n",
    "individual['filename_phenotype'] = trace_path\n",
    "individual['filename_protocol'] = protocol_path\n",
    "individual['filename_initial_state_protocol'] = initial_state_protocol_path"
   ]
  },
  {
   "cell_type": "markdown",
   "id": "25beb928",
   "metadata": {},
   "source": [
    "## Model of current\n",
    "The model of experimental setup which will be used in ga should be compiled as a C library."
   ]
  },
  {
   "cell_type": "code",
   "execution_count": 11,
   "id": "69d2bfb5",
   "metadata": {},
   "outputs": [],
   "source": [
    "dirname_model = '../src/model_ctypes/PC_model/'\n",
    "filename_so = 'libina.so'\n",
    "\n",
    "config['filename_so'] =  os.path.abspath(os.path.join(dirname_model, filename_so))\n",
    "config['filename_legend_states'] =  os.path.abspath(os.path.join(dirname_model, 'legend_states.csv'))\n",
    "config['filename_legend_constants'] =  os.path.abspath(os.path.join(dirname_model, 'legend_constants.csv'))\n",
    "config['filename_legend_algebraic'] =  os.path.abspath(os.path.join(dirname_model, 'legend_algebraic.csv'))"
   ]
  },
  {
   "cell_type": "code",
   "execution_count": 12,
   "id": "f3684b78",
   "metadata": {},
   "outputs": [
    {
     "data": {
      "text/plain": [
       "{'n_organisms': 256,\n",
       " 'n_elites': 16,\n",
       " 'n_generations': 2,\n",
       " 'crossover_rate': 1.0,\n",
       " 'mutation_rate': 1.0,\n",
       " 'gamma': 0.05,\n",
       " 'output_folder_name': '../../results/NEW_NAME',\n",
       " 'loss': 'RMSE',\n",
       " 'columns_control': ['I_out'],\n",
       " 'columns_model': ['I_out'],\n",
       " 'column_stim_protocol': ['v'],\n",
       " 'filename_so': '/home/nik/Documents/WORK/PCoptim/src/model_ctypes/PC_model/libina.so',\n",
       " 'filename_legend_states': '/home/nik/Documents/WORK/PCoptim/src/model_ctypes/PC_model/legend_states.csv',\n",
       " 'filename_legend_constants': '/home/nik/Documents/WORK/PCoptim/src/model_ctypes/PC_model/legend_constants.csv',\n",
       " 'filename_legend_algebraic': '/home/nik/Documents/WORK/PCoptim/src/model_ctypes/PC_model/legend_algebraic.csv'}"
      ]
     },
     "execution_count": 12,
     "metadata": {},
     "output_type": "execute_result"
    }
   ],
   "source": [
    "config"
   ]
  },
  {
   "cell_type": "markdown",
   "id": "a9423efe",
   "metadata": {},
   "source": [
    "## Free parameters and their boundaries"
   ]
  },
  {
   "cell_type": "code",
   "execution_count": 13,
   "id": "06c922c6",
   "metadata": {},
   "outputs": [],
   "source": [
    "config['experimental_conditions'] = {}"
   ]
  },
  {
   "cell_type": "markdown",
   "id": "1ac4d49d",
   "metadata": {},
   "source": [
    "In *common* part written all experimental setup parameters, in *individual* part - parameters of sodium current  and paths to initial state protocol, protocol and trace."
   ]
  },
  {
   "cell_type": "code",
   "execution_count": 14,
   "id": "754fb1e9",
   "metadata": {},
   "outputs": [],
   "source": [
    "individual['params'] = {'c_p': {'bounds': [0.01,5.0], 'is_multiplier': True},\n",
    "                   'c_m': {'bounds': [0.1, 5.0],  'is_multiplier': True},\n",
    "                   'R': {'bounds': [0.1, 100.0], 'is_multiplier': True},\n",
    "                   'R_f': {'bounds': [0.01, 50.0], 'is_multiplier': True},\n",
    "                   'g_max': {'bounds': [0.05, 100.0], 'is_multiplier': True},\n",
    "                   'g_leak': {'bounds': [0.1, 10.0], 'is_multiplier': True},\n",
    "                   'x_c_comp': {'bounds': [0.1, 100.0], 'is_multiplier': True},\n",
    "                   'x_r_comp': {'bounds': [0.1, 10.0], 'is_multiplier': True},\n",
    "                   'alpha': {'bounds': [0.72, 0.78], 'is_multiplier': False},\n",
    "                   'v_rev': {'bounds': [16.0, 80.0], 'is_multiplier': False},\n",
    "                   'v_off': {'bounds': [-2.0, 2.0], 'is_multiplier': False},\n",
    "                   'tau_z': {'bounds': [0.4, 6.0], 'is_multiplier': True}}"
   ]
  },
  {
   "cell_type": "code",
   "execution_count": 15,
   "id": "c13de3ae",
   "metadata": {},
   "outputs": [],
   "source": [
    "default_settings = {'bounds': [0.1, 10], 'is_multiplier': True}\n",
    "\n",
    "common = {}\n",
    "common_parameters = ['a0_m','b0_m','delta_m','s_m', 'tau_m_const',\n",
    "                    'a0_h', 'b0_h','delta_h','s_h', 'tau_h_const',\n",
    "                    'a0_j', 'b0_j', 'delta_j', 's_j', 'tau_j_const',\n",
    "                    ]\n",
    "\n",
    "\n",
    "# Using default settings\n",
    "common['params'] = {param: default_settings for param in common_parameters}\n",
    "\n",
    "# You can change bounds for free parameters if it's necessary\n",
    "common['params']['tau_m_const']['bounds'] =  [0.05, 2.0]\n",
    "\n"
   ]
  },
  {
   "cell_type": "markdown",
   "id": "dc2d7769",
   "metadata": {},
   "source": [
    "Below prepared parameters bounds, which we used in original publication "
   ]
  },
  {
   "cell_type": "code",
   "execution_count": 16,
   "id": "323e625e",
   "metadata": {},
   "outputs": [],
   "source": [
    "common['params']['v_half_h'] = {'bounds': [60.0, 80.0], 'is_multiplier': False}\n",
    "common['params']['v_half_m'] = {'bounds': [20.0, 30.0], 'is_multiplier': False}\n",
    "common['params']['k_h'] = {'bounds': [6.0, 15.0], 'is_multiplier': False}\n",
    "common['params']['k_m'] = {'bounds': [6.0, 15.0], 'is_multiplier': False}\n"
   ]
  },
  {
   "cell_type": "code",
   "execution_count": 17,
   "id": "52ca358c",
   "metadata": {},
   "outputs": [],
   "source": [
    "config['experimental_conditions']['common'] = common\n",
    "config['experimental_conditions']['individual'] = individual"
   ]
  },
  {
   "cell_type": "code",
   "execution_count": 18,
   "id": "ecd0d5b7",
   "metadata": {},
   "outputs": [
    {
     "data": {
      "text/plain": [
       "{'n_organisms': 256,\n",
       " 'n_elites': 16,\n",
       " 'n_generations': 2,\n",
       " 'crossover_rate': 1.0,\n",
       " 'mutation_rate': 1.0,\n",
       " 'gamma': 0.05,\n",
       " 'output_folder_name': '../../results/NEW_NAME',\n",
       " 'loss': 'RMSE',\n",
       " 'columns_control': ['I_out'],\n",
       " 'columns_model': ['I_out'],\n",
       " 'column_stim_protocol': ['v'],\n",
       " 'filename_so': '/home/nik/Documents/WORK/PCoptim/src/model_ctypes/PC_model/libina.so',\n",
       " 'filename_legend_states': '/home/nik/Documents/WORK/PCoptim/src/model_ctypes/PC_model/legend_states.csv',\n",
       " 'filename_legend_constants': '/home/nik/Documents/WORK/PCoptim/src/model_ctypes/PC_model/legend_constants.csv',\n",
       " 'filename_legend_algebraic': '/home/nik/Documents/WORK/PCoptim/src/model_ctypes/PC_model/legend_algebraic.csv',\n",
       " 'experimental_conditions': {'common': {'params': {'a0_m': {'bounds': [0.05,\n",
       "      2.0],\n",
       "     'is_multiplier': True},\n",
       "    'b0_m': {'bounds': [0.05, 2.0], 'is_multiplier': True},\n",
       "    'delta_m': {'bounds': [0.05, 2.0], 'is_multiplier': True},\n",
       "    's_m': {'bounds': [0.05, 2.0], 'is_multiplier': True},\n",
       "    'tau_m_const': {'bounds': [0.05, 2.0], 'is_multiplier': True},\n",
       "    'a0_h': {'bounds': [0.05, 2.0], 'is_multiplier': True},\n",
       "    'b0_h': {'bounds': [0.05, 2.0], 'is_multiplier': True},\n",
       "    'delta_h': {'bounds': [0.05, 2.0], 'is_multiplier': True},\n",
       "    's_h': {'bounds': [0.05, 2.0], 'is_multiplier': True},\n",
       "    'tau_h_const': {'bounds': [0.05, 2.0], 'is_multiplier': True},\n",
       "    'a0_j': {'bounds': [0.05, 2.0], 'is_multiplier': True},\n",
       "    'b0_j': {'bounds': [0.05, 2.0], 'is_multiplier': True},\n",
       "    'delta_j': {'bounds': [0.05, 2.0], 'is_multiplier': True},\n",
       "    's_j': {'bounds': [0.05, 2.0], 'is_multiplier': True},\n",
       "    'tau_j_const': {'bounds': [0.05, 2.0], 'is_multiplier': True},\n",
       "    'v_half_h': {'bounds': [60.0, 80.0], 'is_multiplier': False},\n",
       "    'v_half_m': {'bounds': [20.0, 30.0], 'is_multiplier': False},\n",
       "    'k_h': {'bounds': [6.0, 15.0], 'is_multiplier': False},\n",
       "    'k_m': {'bounds': [6.0, 15.0], 'is_multiplier': False}}},\n",
       "  'individual': {'filename_phenotype': '/home/nik/Documents/WORK/PCoptim/data/traces/activation.csv',\n",
       "   'filename_protocol': '/home/nik/Documents/WORK/PCoptim/data/protocols/activation.csv',\n",
       "   'filename_initial_state_protocol': '/home/nik/Documents/WORK/PCoptim/data/initial_protocols/activation_initial_state.csv',\n",
       "   'params': {'c_p': {'bounds': [0.01, 5.0], 'is_multiplier': True},\n",
       "    'c_m': {'bounds': [0.1, 5.0], 'is_multiplier': True},\n",
       "    'R': {'bounds': [0.1, 100.0], 'is_multiplier': True},\n",
       "    'R_f': {'bounds': [0.01, 50.0], 'is_multiplier': True},\n",
       "    'g_max': {'bounds': [0.05, 100.0], 'is_multiplier': True},\n",
       "    'g_leak': {'bounds': [0.1, 10.0], 'is_multiplier': True},\n",
       "    'x_c_comp': {'bounds': [0.1, 100.0], 'is_multiplier': True},\n",
       "    'x_r_comp': {'bounds': [0.1, 10.0], 'is_multiplier': True},\n",
       "    'alpha': {'bounds': [0.72, 0.78], 'is_multiplier': False},\n",
       "    'v_rev': {'bounds': [16.0, 80.0], 'is_multiplier': False},\n",
       "    'v_off': {'bounds': [-2.0, 2.0], 'is_multiplier': False},\n",
       "    'tau_z': {'bounds': [0.4, 6.0], 'is_multiplier': True}}}}}"
      ]
     },
     "execution_count": 18,
     "metadata": {},
     "output_type": "execute_result"
    }
   ],
   "source": [
    "config"
   ]
  },
  {
   "cell_type": "markdown",
   "id": "67079b83",
   "metadata": {},
   "source": [
    "## Save config"
   ]
  },
  {
   "cell_type": "code",
   "execution_count": 19,
   "id": "f749c589",
   "metadata": {},
   "outputs": [],
   "source": [
    "# import json\n",
    "\n",
    "# config_name = 'NEW_NAME'\n",
    "# with open(f\"../ga/configs/{config_name}.json\", 'w') as f:\n",
    "#     f.write(json.dumps(config, indent=4))"
   ]
  },
  {
   "cell_type": "markdown",
   "id": "c361dd95",
   "metadata": {},
   "source": [
    "## Advanced \n",
    "Simultaneous optimization of multiple experimental traces is supported. In this case  'common' parameters such as ionic current properties are supposed to be the same in every experiment, while 'individual' such as experimental artifact parameters are supposed to be different. "
   ]
  },
  {
   "cell_type": "code",
   "execution_count": 20,
   "id": "2f910e90",
   "metadata": {},
   "outputs": [],
   "source": [
    "import copy\n",
    "advanced_config = copy.deepcopy(config)\n",
    "advanced_config['experimental_conditions']['individual_1'] = individual"
   ]
  },
  {
   "cell_type": "code",
   "execution_count": 21,
   "id": "e499e93b",
   "metadata": {},
   "outputs": [],
   "source": [
    "# import json\n",
    "\n",
    "# advanced_config_name = 'advanced_config'\n",
    "# with open(f\"../ga/configs/{advanced_config_name}.json\", 'w') as f:\n",
    "#     f.write(json.dumps(advanced_config, indent=4))"
   ]
  }
 ],
 "metadata": {
  "kernelspec": {
   "display_name": "env_pypoptim",
   "language": "python",
   "name": "env_pypoptim"
  },
  "language_info": {
   "codemirror_mode": {
    "name": "ipython",
    "version": 3
   },
   "file_extension": ".py",
   "mimetype": "text/x-python",
   "name": "python",
   "nbconvert_exporter": "python",
   "pygments_lexer": "ipython3",
   "version": "3.8.10"
  }
 },
 "nbformat": 4,
 "nbformat_minor": 5
}
