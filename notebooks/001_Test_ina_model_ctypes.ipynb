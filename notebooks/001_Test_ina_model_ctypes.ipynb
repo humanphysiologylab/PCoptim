{
 "cells": [
  {
   "cell_type": "markdown",
   "id": "489e200f",
   "metadata": {},
   "source": [
    "## Example to test patch clamp model.\n",
    "This script tests if patch-clamp model was buit into a shared object C library and runs properly."
   ]
  },
  {
   "cell_type": "code",
   "execution_count": 61,
   "id": "7806a9c4",
   "metadata": {},
   "outputs": [],
   "source": [
    "import numpy as np\n",
    "import pandas as pd\n",
    "import matplotlib.pyplot as plt\n",
    "import sys\n",
    "import os"
   ]
  },
  {
   "cell_type": "code",
   "execution_count": 62,
   "id": "3f9e97a0",
   "metadata": {},
   "outputs": [],
   "source": [
    "data = pd.read_csv('../data/traces/2020_12_22_0033.csv', index_col=0)"
   ]
  },
  {
   "cell_type": "code",
   "execution_count": 63,
   "id": "1db8c6cd",
   "metadata": {},
   "outputs": [],
   "source": [
    "df_new = pd.DataFrame(np.reshape(data.I_out, [15, 12000])).T"
   ]
  },
  {
   "cell_type": "code",
   "execution_count": 64,
   "id": "23ff28df",
   "metadata": {},
   "outputs": [],
   "source": [
    "df_new['t'] = df_protocol.t"
   ]
  },
  {
   "cell_type": "code",
   "execution_count": 65,
   "id": "1a86ae7b",
   "metadata": {},
   "outputs": [
    {
     "data": {
      "text/html": [
       "<div>\n",
       "<style scoped>\n",
       "    .dataframe tbody tr th:only-of-type {\n",
       "        vertical-align: middle;\n",
       "    }\n",
       "\n",
       "    .dataframe tbody tr th {\n",
       "        vertical-align: top;\n",
       "    }\n",
       "\n",
       "    .dataframe thead th {\n",
       "        text-align: right;\n",
       "    }\n",
       "</style>\n",
       "<table border=\"1\" class=\"dataframe\">\n",
       "  <thead>\n",
       "    <tr style=\"text-align: right;\">\n",
       "      <th></th>\n",
       "      <th>t</th>\n",
       "      <th>0</th>\n",
       "      <th>1</th>\n",
       "      <th>2</th>\n",
       "      <th>3</th>\n",
       "      <th>4</th>\n",
       "      <th>5</th>\n",
       "      <th>6</th>\n",
       "      <th>7</th>\n",
       "      <th>8</th>\n",
       "      <th>9</th>\n",
       "      <th>10</th>\n",
       "      <th>11</th>\n",
       "      <th>12</th>\n",
       "      <th>13</th>\n",
       "      <th>14</th>\n",
       "    </tr>\n",
       "  </thead>\n",
       "  <tbody>\n",
       "    <tr>\n",
       "      <th>0</th>\n",
       "      <td>0.00000</td>\n",
       "      <td>-24.4141</td>\n",
       "      <td>-65.9180</td>\n",
       "      <td>-84.2285</td>\n",
       "      <td>-186.157</td>\n",
       "      <td>-121.155</td>\n",
       "      <td>-187.378</td>\n",
       "      <td>-312.805</td>\n",
       "      <td>-236.206</td>\n",
       "      <td>-144.653</td>\n",
       "      <td>-118.713</td>\n",
       "      <td>-182.495</td>\n",
       "      <td>-88.1958</td>\n",
       "      <td>-91.5527</td>\n",
       "      <td>-130.615</td>\n",
       "      <td>-96.1304</td>\n",
       "    </tr>\n",
       "    <tr>\n",
       "      <th>1</th>\n",
       "      <td>0.00005</td>\n",
       "      <td>-24.1089</td>\n",
       "      <td>-66.2231</td>\n",
       "      <td>-84.8389</td>\n",
       "      <td>-186.462</td>\n",
       "      <td>-121.460</td>\n",
       "      <td>-187.988</td>\n",
       "      <td>-312.195</td>\n",
       "      <td>-236.511</td>\n",
       "      <td>-144.653</td>\n",
       "      <td>-118.103</td>\n",
       "      <td>-182.800</td>\n",
       "      <td>-87.5854</td>\n",
       "      <td>-91.5527</td>\n",
       "      <td>-130.310</td>\n",
       "      <td>-96.1304</td>\n",
       "    </tr>\n",
       "    <tr>\n",
       "      <th>2</th>\n",
       "      <td>0.00010</td>\n",
       "      <td>-24.1089</td>\n",
       "      <td>-66.5283</td>\n",
       "      <td>-85.1440</td>\n",
       "      <td>-186.462</td>\n",
       "      <td>-122.070</td>\n",
       "      <td>-188.599</td>\n",
       "      <td>-312.500</td>\n",
       "      <td>-236.511</td>\n",
       "      <td>-144.043</td>\n",
       "      <td>-118.103</td>\n",
       "      <td>-183.411</td>\n",
       "      <td>-87.5854</td>\n",
       "      <td>-91.5527</td>\n",
       "      <td>-130.005</td>\n",
       "      <td>-95.8252</td>\n",
       "    </tr>\n",
       "    <tr>\n",
       "      <th>3</th>\n",
       "      <td>0.00015</td>\n",
       "      <td>-24.1089</td>\n",
       "      <td>-66.2231</td>\n",
       "      <td>-85.1440</td>\n",
       "      <td>-186.462</td>\n",
       "      <td>-122.681</td>\n",
       "      <td>-188.904</td>\n",
       "      <td>-312.805</td>\n",
       "      <td>-236.816</td>\n",
       "      <td>-144.653</td>\n",
       "      <td>-117.798</td>\n",
       "      <td>-183.411</td>\n",
       "      <td>-86.9751</td>\n",
       "      <td>-91.2476</td>\n",
       "      <td>-130.005</td>\n",
       "      <td>-96.1304</td>\n",
       "    </tr>\n",
       "    <tr>\n",
       "      <th>4</th>\n",
       "      <td>0.00020</td>\n",
       "      <td>-23.8037</td>\n",
       "      <td>-66.2231</td>\n",
       "      <td>-86.0596</td>\n",
       "      <td>-186.462</td>\n",
       "      <td>-122.986</td>\n",
       "      <td>-189.514</td>\n",
       "      <td>-312.805</td>\n",
       "      <td>-236.816</td>\n",
       "      <td>-144.653</td>\n",
       "      <td>-117.798</td>\n",
       "      <td>-183.105</td>\n",
       "      <td>-86.3647</td>\n",
       "      <td>-90.9424</td>\n",
       "      <td>-130.005</td>\n",
       "      <td>-95.8252</td>\n",
       "    </tr>\n",
       "    <tr>\n",
       "      <th>...</th>\n",
       "      <td>...</td>\n",
       "      <td>...</td>\n",
       "      <td>...</td>\n",
       "      <td>...</td>\n",
       "      <td>...</td>\n",
       "      <td>...</td>\n",
       "      <td>...</td>\n",
       "      <td>...</td>\n",
       "      <td>...</td>\n",
       "      <td>...</td>\n",
       "      <td>...</td>\n",
       "      <td>...</td>\n",
       "      <td>...</td>\n",
       "      <td>...</td>\n",
       "      <td>...</td>\n",
       "      <td>...</td>\n",
       "    </tr>\n",
       "    <tr>\n",
       "      <th>11995</th>\n",
       "      <td>0.59975</td>\n",
       "      <td>-45.4712</td>\n",
       "      <td>-122.9860</td>\n",
       "      <td>-123.9010</td>\n",
       "      <td>-125.427</td>\n",
       "      <td>-154.419</td>\n",
       "      <td>-234.375</td>\n",
       "      <td>-325.928</td>\n",
       "      <td>-271.301</td>\n",
       "      <td>-185.852</td>\n",
       "      <td>-168.762</td>\n",
       "      <td>-201.721</td>\n",
       "      <td>-156.5550</td>\n",
       "      <td>-161.7430</td>\n",
       "      <td>-205.994</td>\n",
       "      <td>-209.3510</td>\n",
       "    </tr>\n",
       "    <tr>\n",
       "      <th>11996</th>\n",
       "      <td>0.59980</td>\n",
       "      <td>-45.4712</td>\n",
       "      <td>-122.9860</td>\n",
       "      <td>-123.2910</td>\n",
       "      <td>-125.122</td>\n",
       "      <td>-154.724</td>\n",
       "      <td>-234.070</td>\n",
       "      <td>-325.623</td>\n",
       "      <td>-271.606</td>\n",
       "      <td>-185.852</td>\n",
       "      <td>-168.762</td>\n",
       "      <td>-201.416</td>\n",
       "      <td>-156.8600</td>\n",
       "      <td>-161.4380</td>\n",
       "      <td>-206.604</td>\n",
       "      <td>-209.6560</td>\n",
       "    </tr>\n",
       "    <tr>\n",
       "      <th>11997</th>\n",
       "      <td>0.59985</td>\n",
       "      <td>-45.4712</td>\n",
       "      <td>-122.9860</td>\n",
       "      <td>-123.5960</td>\n",
       "      <td>-124.817</td>\n",
       "      <td>-154.724</td>\n",
       "      <td>-233.459</td>\n",
       "      <td>-325.317</td>\n",
       "      <td>-271.606</td>\n",
       "      <td>-185.547</td>\n",
       "      <td>-169.067</td>\n",
       "      <td>-201.111</td>\n",
       "      <td>-156.8600</td>\n",
       "      <td>-161.4380</td>\n",
       "      <td>-207.825</td>\n",
       "      <td>-209.9610</td>\n",
       "    </tr>\n",
       "    <tr>\n",
       "      <th>11998</th>\n",
       "      <td>0.59990</td>\n",
       "      <td>-45.7764</td>\n",
       "      <td>-123.2910</td>\n",
       "      <td>-122.9860</td>\n",
       "      <td>-124.207</td>\n",
       "      <td>-154.419</td>\n",
       "      <td>-234.070</td>\n",
       "      <td>-325.317</td>\n",
       "      <td>-271.301</td>\n",
       "      <td>-184.937</td>\n",
       "      <td>-169.678</td>\n",
       "      <td>-201.721</td>\n",
       "      <td>-157.1660</td>\n",
       "      <td>-161.4380</td>\n",
       "      <td>-209.045</td>\n",
       "      <td>-209.9610</td>\n",
       "    </tr>\n",
       "    <tr>\n",
       "      <th>11999</th>\n",
       "      <td>0.59995</td>\n",
       "      <td>-46.3867</td>\n",
       "      <td>-122.6810</td>\n",
       "      <td>-123.2910</td>\n",
       "      <td>-124.207</td>\n",
       "      <td>-154.419</td>\n",
       "      <td>-233.459</td>\n",
       "      <td>-325.012</td>\n",
       "      <td>-270.996</td>\n",
       "      <td>-184.937</td>\n",
       "      <td>-169.678</td>\n",
       "      <td>-201.416</td>\n",
       "      <td>-157.4710</td>\n",
       "      <td>-161.4380</td>\n",
       "      <td>-209.961</td>\n",
       "      <td>-210.8760</td>\n",
       "    </tr>\n",
       "  </tbody>\n",
       "</table>\n",
       "<p>12000 rows × 16 columns</p>\n",
       "</div>"
      ],
      "text/plain": [
       "             t        0         1         2        3        4        5  \\\n",
       "0      0.00000 -24.4141  -65.9180  -84.2285 -186.157 -121.155 -187.378   \n",
       "1      0.00005 -24.1089  -66.2231  -84.8389 -186.462 -121.460 -187.988   \n",
       "2      0.00010 -24.1089  -66.5283  -85.1440 -186.462 -122.070 -188.599   \n",
       "3      0.00015 -24.1089  -66.2231  -85.1440 -186.462 -122.681 -188.904   \n",
       "4      0.00020 -23.8037  -66.2231  -86.0596 -186.462 -122.986 -189.514   \n",
       "...        ...      ...       ...       ...      ...      ...      ...   \n",
       "11995  0.59975 -45.4712 -122.9860 -123.9010 -125.427 -154.419 -234.375   \n",
       "11996  0.59980 -45.4712 -122.9860 -123.2910 -125.122 -154.724 -234.070   \n",
       "11997  0.59985 -45.4712 -122.9860 -123.5960 -124.817 -154.724 -233.459   \n",
       "11998  0.59990 -45.7764 -123.2910 -122.9860 -124.207 -154.419 -234.070   \n",
       "11999  0.59995 -46.3867 -122.6810 -123.2910 -124.207 -154.419 -233.459   \n",
       "\n",
       "             6        7        8        9       10        11        12  \\\n",
       "0     -312.805 -236.206 -144.653 -118.713 -182.495  -88.1958  -91.5527   \n",
       "1     -312.195 -236.511 -144.653 -118.103 -182.800  -87.5854  -91.5527   \n",
       "2     -312.500 -236.511 -144.043 -118.103 -183.411  -87.5854  -91.5527   \n",
       "3     -312.805 -236.816 -144.653 -117.798 -183.411  -86.9751  -91.2476   \n",
       "4     -312.805 -236.816 -144.653 -117.798 -183.105  -86.3647  -90.9424   \n",
       "...        ...      ...      ...      ...      ...       ...       ...   \n",
       "11995 -325.928 -271.301 -185.852 -168.762 -201.721 -156.5550 -161.7430   \n",
       "11996 -325.623 -271.606 -185.852 -168.762 -201.416 -156.8600 -161.4380   \n",
       "11997 -325.317 -271.606 -185.547 -169.067 -201.111 -156.8600 -161.4380   \n",
       "11998 -325.317 -271.301 -184.937 -169.678 -201.721 -157.1660 -161.4380   \n",
       "11999 -325.012 -270.996 -184.937 -169.678 -201.416 -157.4710 -161.4380   \n",
       "\n",
       "            13        14  \n",
       "0     -130.615  -96.1304  \n",
       "1     -130.310  -96.1304  \n",
       "2     -130.005  -95.8252  \n",
       "3     -130.005  -96.1304  \n",
       "4     -130.005  -95.8252  \n",
       "...        ...       ...  \n",
       "11995 -205.994 -209.3510  \n",
       "11996 -206.604 -209.6560  \n",
       "11997 -207.825 -209.9610  \n",
       "11998 -209.045 -209.9610  \n",
       "11999 -209.961 -210.8760  \n",
       "\n",
       "[12000 rows x 16 columns]"
      ]
     },
     "execution_count": 65,
     "metadata": {},
     "output_type": "execute_result"
    }
   ],
   "source": [
    "pd.read_csv('../data/traces/inactivation#1.csv')"
   ]
  },
  {
   "cell_type": "code",
   "execution_count": 58,
   "id": "718826c7",
   "metadata": {},
   "outputs": [],
   "source": [
    "df_new = df_new.loc[:, ['t', *np.arange(15)]]"
   ]
  },
  {
   "cell_type": "code",
   "execution_count": 60,
   "id": "2d4d7d95",
   "metadata": {},
   "outputs": [],
   "source": [
    "df_new.to_csv('../data/traces/inactivation#1.csv')"
   ]
  },
  {
   "cell_type": "markdown",
   "id": "8514c6fc",
   "metadata": {},
   "source": [
    "'mpi_scripts' functions provide interface between python GA optimization library and model C library.\n",
    "Load class InaModel from '../ga/mpi_scripts/ina_model.py'. InaModel should contain 3 methods:\n",
    "\n",
    "**init(lib.so)** - interfacing .so C library with python. The C model data structure used as arguments of 'run' function from .so model library should be described here.\n",
    "\n",
    "**run(args)** - the call of function from .so library should be defined there. In our case, firstly, this function calculates the initial state of model variables using df_initial_state_protocol defined below. Secondly, the voltage clamp experiment is simulated using df_protocol defined below. Every sweep uses the same initial state.\n",
    "\n",
    "**status()** - should contain the status of output of .so library. It is necessary for genetic algorythm optimization functions. Succesful execution status should be equal to '2'."
   ]
  },
  {
   "cell_type": "code",
   "execution_count": 4,
   "id": "d6b71e39",
   "metadata": {},
   "outputs": [],
   "source": [
    "sys.path.append('../ga/mpi_scripts/')\n",
    "from ina_model import InaModel"
   ]
  },
  {
   "cell_type": "markdown",
   "id": "7dbcdc11",
   "metadata": {},
   "source": [
    " 'libina.so' contatins C model library."
   ]
  },
  {
   "cell_type": "code",
   "execution_count": 5,
   "id": "a7951477",
   "metadata": {},
   "outputs": [],
   "source": [
    "dirname = '../src/model_ctypes/PC_model/'# dir which contatins C model library.\n",
    "filename_so = os.path.join(dirname, 'libina.so') #name of .so file\n",
    "\n",
    "filename_so_abs = os.path.abspath(filename_so)\n",
    "Ina = InaModel(filename_so_abs)"
   ]
  },
  {
   "cell_type": "markdown",
   "id": "4c005084",
   "metadata": {},
   "source": [
    "CVODE N_vector arrays are accesed by the names profided in the .csv files below from the python functions.\n"
   ]
  },
  {
   "cell_type": "code",
   "execution_count": 6,
   "id": "bec297c6",
   "metadata": {},
   "outputs": [],
   "source": [
    "legend_algebraic = pd.read_csv('../src/model_ctypes/PC_model/legend_algebraic.csv', index_col='name').value\n",
    "legend_constants = pd.read_csv('../src/model_ctypes/PC_model/legend_constants.csv', index_col='name').value\n",
    "legend_states = pd.read_csv('../src/model_ctypes/PC_model/legend_states.csv', index_col='name').value\n",
    "\n",
    "A = legend_algebraic.copy()\n",
    "C = legend_constants.copy()\n",
    "S = legend_states.copy()\n"
   ]
  },
  {
   "cell_type": "markdown",
   "id": "e45b3439",
   "metadata": {},
   "source": [
    "Voltage-clamp protocol is described in df_protocol .csv file. Before the simulation, df_initial_state_protocol is used to prepare initial condition set of variables. Most often the latter is a holding potential which should be long enough to stabilize the gating variables."
   ]
  },
  {
   "cell_type": "code",
   "execution_count": 8,
   "id": "bbbbc29b",
   "metadata": {},
   "outputs": [],
   "source": [
    "df_protocol = pd.read_csv('../data/protocols/inactivation.csv')\n",
    "df_initial_state_protocol = pd.read_csv('../data/initial_state_protocols/inactivation_initial_state.csv')"
   ]
  },
  {
   "cell_type": "markdown",
   "id": "2e1928b1",
   "metadata": {},
   "source": [
    "Model parameters can be changed directly using the names described in legend_constats .csv file."
   ]
  },
  {
   "cell_type": "code",
   "execution_count": 6,
   "id": "c1478a2f",
   "metadata": {},
   "outputs": [],
   "source": [
    "# C.c_m = 5e-11\n",
    "# C.R = 5e7"
   ]
  },
  {
   "cell_type": "markdown",
   "id": "273b3332",
   "metadata": {},
   "source": [
    "Run patch-clamp model"
   ]
  },
  {
   "cell_type": "code",
   "execution_count": 7,
   "id": "72fac934",
   "metadata": {},
   "outputs": [],
   "source": [
    "I, I_a = Ina.run(A,\n",
    "                 S,\n",
    "                 C,\n",
    "                 df_protocol, \n",
    "                 df_initial_state_protocol, \n",
    "                 return_algebraic=True)"
   ]
  },
  {
   "cell_type": "markdown",
   "id": "7a5c2b12",
   "metadata": {},
   "source": [
    "### Plot output current"
   ]
  },
  {
   "cell_type": "code",
   "execution_count": 8,
   "id": "eed8752d",
   "metadata": {},
   "outputs": [
    {
     "data": {
      "text/plain": [
       "[<matplotlib.lines.Line2D at 0x7f139ccba500>]"
      ]
     },
     "execution_count": 8,
     "metadata": {},
     "output_type": "execute_result"
    },
    {
     "data": {
      "image/png": "[encoded data removed]",
      "text/plain": [
       "<Figure size 640x480 with 1 Axes>"
      ]
     },
     "metadata": {},
     "output_type": "display_data"
    }
   ],
   "source": [
    "plt.plot(I.I_out)"
   ]
  },
  {
   "cell_type": "markdown",
   "id": "32997514",
   "metadata": {},
   "source": [
    "### Plot voltage-clamp protocol"
   ]
  },
  {
   "cell_type": "code",
   "execution_count": 9,
   "id": "dcc87428",
   "metadata": {},
   "outputs": [
    {
     "data": {
      "text/plain": [
       "Text(0.5, 0, 't, s')"
      ]
     },
     "execution_count": 9,
     "metadata": {},
     "output_type": "execute_result"
    },
    {
     "data": {
      "image/png": "[encoded data removed]",
      "text/plain": [
       "<Figure size 640x480 with 1 Axes>"
      ]
     },
     "metadata": {},
     "output_type": "display_data"
    }
   ],
   "source": [
    "plt.plot(df_protocol.t, df_protocol.drop('t', axis=1))\n",
    "plt.ylabel('V, mV')\n",
    "plt.xlabel('t, s')"
   ]
  }
 ],
 "metadata": {
  "kernelspec": {
   "display_name": "pcoptim",
   "language": "python",
   "name": "pcoptim"
  },
  "language_info": {
   "codemirror_mode": {
    "name": "ipython",
    "version": 3
   },
   "file_extension": ".py",
   "mimetype": "text/x-python",
   "name": "python",
   "nbconvert_exporter": "python",
   "pygments_lexer": "ipython3",
   "version": "3.10.11"
  }
 },
 "nbformat": 4,
 "nbformat_minor": 5
}
